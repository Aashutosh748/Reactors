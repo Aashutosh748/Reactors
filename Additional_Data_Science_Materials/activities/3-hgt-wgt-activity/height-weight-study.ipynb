{
 "cells": [
  {
   "cell_type": "markdown",
   "metadata": {},
   "source": [
    "# Height and Weight Prediction Activity\n",
    "\n",
    "Contoso Data Systems is creating a new product to predict the height or weight of a person.\n",
    "\n",
    "In this project, you’ll use linear regression models to predict the height or weight of a person.\n",
    "\n",
    "## About the data: \n",
    "\n",
    "Human Height and Weight are mostly heritable, but lifestyles, diet, health and environmental factors also play a role in determining an individual's physical characteristics. The dataset below contains 10,000 synthetic records of human heights and weights of 18 years old children. These data were simulated based on a 1993 by a Growth Survey of 10,000 children from birth to 18 years of age recruited from Maternal and Child Health Centres (MCHC) and schools and were used to develop Hong Kong's current growth charts for weight, height, weight-for-age, weight-for-height and body mass index (BMI).\n",
    "\n",
    "## Linear Regression\n",
    "\n",
    "Linear regression is a statistical method that summarizes the relationship between two quantitative data and defines uncertain relationships between two variables.\n",
    "\n",
    "`y = a.x + b` – This equation defines a linear regression, \n",
    "\n",
    "where y is a dependent variable, x is an independent variable, and b is a constant.\n",
    "\n",
    "In the real world, data will not fit this equation. The linear regression equation tries to predict the approximate relationship between the dependent and independent variables.\n",
    "\n",
    "## The activity: Data Visualization\n",
    "\n",
    "We want to make data accessible to people so that they can draw their own conclusions from the data, these conclusions are drawn from the expertise that we as data scientists need to have in the subject we are studying. We refer this as domain expertise and it is incredibly important for us to know something about the data before we can begin to create models and experiments.\n",
    "\n",
    "In this activity we will use two common forms of exploratory data visualizations: single column visualizations and two-column visualizations. As you may have inferred from the names, the single column visualization is used to show the shape of your data and the two-column highlights the relationship between two variables in a dataset.\n",
    "\n",
    "Some of these shapes we will see in the single column visualizations are idealized shapes, we call these shapes distributions. Distributions are standard patterns that statisticians have used for years to describe data. When you find a distribution in your data, or when you find one of these shapes, you can make some broad inferences about your data. \n",
    "\n",
    "Let's  begin by loading the data and the tools that we will use to view the data in Python. In this case numpy and pandas. Even though this data only has three fields. It's actually a fairly complex and interesting dataset that we can use to illustrate many of the ideas we use as data scientists on a daily basis."
   ]
  },
  {
   "cell_type": "markdown",
   "metadata": {},
   "source": [
    "*Note from Sarah to Dan*  \n",
    "Above you say `In the real world, data will not fit this equation.` - can you briefly explain why?  \n",
    "Above you say `it is incredibly important for us to know something about the data before we can begin to create models and experiments.` - can you briefly explain why? For example, `we will need to make decisions about how to fill null values, when to drop certain columns of data, and what data to take into account when making predicitons, and without that domain expertise we might end up answering the wrong question or accidentally skewing results`  \n",
    "I liked your paragraph above about \"Some of these shapres will....\", can you add a similar paragraph for two-column visualizations?"
   ]
  },
  {
   "cell_type": "code",
   "execution_count": 1,
   "metadata": {},
   "outputs": [
    {
     "data": {
      "text/html": [
       "<div>\n",
       "<style scoped>\n",
       "    .dataframe tbody tr th:only-of-type {\n",
       "        vertical-align: middle;\n",
       "    }\n",
       "\n",
       "    .dataframe tbody tr th {\n",
       "        vertical-align: top;\n",
       "    }\n",
       "\n",
       "    .dataframe thead th {\n",
       "        text-align: right;\n",
       "    }\n",
       "</style>\n",
       "<table border=\"1\" class=\"dataframe\">\n",
       "  <thead>\n",
       "    <tr style=\"text-align: right;\">\n",
       "      <th></th>\n",
       "      <th>Height</th>\n",
       "      <th>Weight</th>\n",
       "    </tr>\n",
       "    <tr>\n",
       "      <th>Gender</th>\n",
       "      <th></th>\n",
       "      <th></th>\n",
       "    </tr>\n",
       "  </thead>\n",
       "  <tbody>\n",
       "    <tr>\n",
       "      <th>Male</th>\n",
       "      <td>73.847017</td>\n",
       "      <td>241.893563</td>\n",
       "    </tr>\n",
       "    <tr>\n",
       "      <th>Male</th>\n",
       "      <td>68.781904</td>\n",
       "      <td>162.310473</td>\n",
       "    </tr>\n",
       "    <tr>\n",
       "      <th>Male</th>\n",
       "      <td>74.110105</td>\n",
       "      <td>212.740856</td>\n",
       "    </tr>\n",
       "    <tr>\n",
       "      <th>Male</th>\n",
       "      <td>71.730978</td>\n",
       "      <td>220.042470</td>\n",
       "    </tr>\n",
       "    <tr>\n",
       "      <th>Male</th>\n",
       "      <td>69.881796</td>\n",
       "      <td>206.349801</td>\n",
       "    </tr>\n",
       "  </tbody>\n",
       "</table>\n",
       "</div>"
      ],
      "text/plain": [
       "           Height      Weight\n",
       "Gender                       \n",
       "Male    73.847017  241.893563\n",
       "Male    68.781904  162.310473\n",
       "Male    74.110105  212.740856\n",
       "Male    71.730978  220.042470\n",
       "Male    69.881796  206.349801"
      ]
     },
     "execution_count": 1,
     "metadata": {},
     "output_type": "execute_result"
    }
   ],
   "source": [
    "import numpy as np\n",
    "import pandas as pd\n",
    "from sklearn import preprocessing\n",
    "from sklearn.model_selection import KFold\n",
    "from sklearn.linear_model import LinearRegression\n",
    "import matplotlib.pyplot as plt\n",
    "%matplotlib inline\n",
    "from lmfit.models import LorentzianModel\n",
    "\n",
    "df = pd.DataFrame(pd.read_csv('Data/01_heights_weights_genders.csv', index_col=[0]))\n",
    "df.head()"
   ]
  },
  {
   "cell_type": "code",
   "execution_count": 2,
   "metadata": {},
   "outputs": [
    {
     "name": "stdout",
     "output_type": "stream",
     "text": [
      "<class 'pandas.core.frame.DataFrame'>\n",
      "Index: 10000 entries, Male to Female\n",
      "Data columns (total 2 columns):\n",
      " #   Column  Non-Null Count  Dtype  \n",
      "---  ------  --------------  -----  \n",
      " 0   Height  10000 non-null  float64\n",
      " 1   Weight  10000 non-null  float64\n",
      "dtypes: float64(2)\n",
      "memory usage: 234.4+ KB\n"
     ]
    }
   ],
   "source": [
    "df.info()"
   ]
  },
  {
   "cell_type": "markdown",
   "metadata": {},
   "source": [
    "# Looking at different plots\n",
    "\n",
    "As a data scientist you must first get to know your domain and the data that is being collected within that field. Let's do a deep dive and display some plots of the data just so that we can see how they look. The results of this type of review are unknown and we can only look for nuances and things that we may have not thought about before.\n",
    "\n",
    "As we look at different plots, we train ourselves to spot anomalies and other features that we may not have noticed if we were to just do the most basic review of the data."
   ]
  },
  {
   "cell_type": "code",
   "execution_count": 3,
   "metadata": {},
   "outputs": [],
   "source": [
    "# Use a '?' question mark after a keyword and explore what each function does below:\n",
    "# It is always a good idea to review the documentation before you execute a command\n",
    "df.plot?"
   ]
  },
  {
   "cell_type": "markdown",
   "metadata": {},
   "source": [
    "*Notes from Sarah to Dan*  \n",
    "I think the next section is formatted incorrectly?  \n",
    "Can you also better explain what learners are seeing?"
   ]
  },
  {
   "cell_type": "markdown",
   "metadata": {},
   "source": [
    "## Here is part the output of `df.plot?`, notice the types of plots you can create:\n",
    "\n",
    "Signature:      df.plot(*args, **kwargs)\n",
    "Type:           PlotAccessor\n",
    "String form:    <pandas.plotting._core.PlotAccessor object at 0x10658fa90>\n",
    "File:           /Library/Frameworks/Python.framework/Versions/3.7/lib/python3.7/site-packages/pandas/plotting/_core.py\n",
    "Docstring:     \n",
    "Make plots of Series or DataFrame.\n",
    "\n",
    "Uses the backend specified by the\n",
    "option ``plotting.backend``. By default, matplotlib is used.\n",
    "\n",
    "Parameters\n",
    "----------\n",
    "data : Series or DataFrame\n",
    "    The object for which the method is called.\n",
    "x : label or position, default None\n",
    "    Only used if data is a DataFrame.\n",
    "y : label, position or list of label, positions, default None\n",
    "    Allows plotting of one column versus another. Only used if data is a\n",
    "    DataFrame.\n",
    "kind : str\n",
    "    The kind of plot to produce:\n",
    "\n",
    "    - 'line' : line plot (default)\n",
    "    - 'bar' : vertical bar plot\n",
    "    - 'barh' : horizontal bar plot\n",
    "    - 'hist' : histogram\n",
    "    - 'box' : boxplot\n",
    "    - 'kde' : Kernel Density Estimation plot\n",
    "    - 'density' : same as 'kde'\n",
    "    - 'area' : area plot\n",
    "    - 'pie' : pie plot\n",
    "    - 'scatter' : scatter plot\n",
    "    - 'hexbin' : hexbin plot."
   ]
  },
  {
   "cell_type": "code",
   "execution_count": 4,
   "metadata": {},
   "outputs": [
    {
     "data": {
      "text/plain": [
       "<matplotlib.axes._subplots.AxesSubplot at 0x1290d6550>"
      ]
     },
     "execution_count": 4,
     "metadata": {},
     "output_type": "execute_result"
    },
    {
     "data": {
      "image/png": "[encoded data removed]",
      "text/plain": [
       "<Figure size 432x288 with 1 Axes>"
      ]
     },
     "metadata": {
      "needs_background": "light"
     },
     "output_type": "display_data"
    }
   ],
   "source": [
    "# Now let's run the code.\n",
    "df.plot()"
   ]
  },
  {
   "cell_type": "markdown",
   "metadata": {},
   "source": [
    "Let’s get started by just visualizing the heights and weights data that we’ve been working with so far. We chosen this dataset because it can be used to illustrate many of the tasks that we use daily when working with data.\n",
    "\n",
    "The most typical single-column visualization technique that people use is the histogram. In a histogram, you divide your data set into bins and then count the number of entries in your data that fall into each of the bins."
   ]
  },
  {
   "cell_type": "code",
   "execution_count": 5,
   "metadata": {},
   "outputs": [],
   "source": [
    "# Let's explore the the histogram a bit more by looking at the built-in documentation.\n",
    "df.hist?"
   ]
  },
  {
   "cell_type": "markdown",
   "metadata": {},
   "source": [
    "*Notes from Sarah to Dan*  \n",
    "Can you explain what they are seeing after running that cell?  \n",
    "For the next cell, can you briefly describe bins before continuing?  \n",
    "For the next cell, you say `One way to check this is to try using several different bin levels.` - can you specify what \"this\" is?  \n"
   ]
  },
  {
   "cell_type": "markdown",
   "metadata": {},
   "source": [
    "## Setting bins and smoothing\n",
    "\n",
    "How many bins should we use? Try using just one bin. You'll notice that with one (1) bin you will not get any distribution it will just be a solid plot.  Most of the entries are in the middle of your data, near the mean and median height. \n",
    "\n",
    "But there’s a danger that this shape is an illusion caused by the type of histogram we’re using. One way to check this is to try using several different bin levels. This is something you should always keep in mind when working with histograms: the number of bins you use impose external structure on your data at the same time that they reveal internal structure in your data. The patterns you find, even when they’re real, can go away very easily if you use the wrong settings for building a histogram. \n",
    "\n",
    "Try using five (5) bins and the solid structure dissappears, but we still have a peak like a bell curve. When we use too few bins like this, we run into the risk of undersmoothing our plot. Conversely when we use too many, we oversmooth. "
   ]
  },
  {
   "cell_type": "code",
   "execution_count": 6,
   "metadata": {},
   "outputs": [
    {
     "name": "stdout",
     "output_type": "stream",
     "text": [
      "[[<matplotlib.axes._subplots.AxesSubplot object at 0x12c1fd0f0>]]\n",
      "[[<matplotlib.axes._subplots.AxesSubplot object at 0x12c1c68d0>]]\n",
      "[[<matplotlib.axes._subplots.AxesSubplot object at 0x12c38b9e8>]]\n"
     ]
    },
    {
     "data": {
      "image/png": "[encoded data removed]",
      "text/plain": [
       "<Figure size 432x288 with 1 Axes>"
      ]
     },
     "metadata": {
      "needs_background": "light"
     },
     "output_type": "display_data"
    },
    {
     "data": {
      "image/png": "[encoded data removed]",
      "text/plain": [
       "<Figure size 432x288 with 1 Axes>"
      ]
     },
     "metadata": {
      "needs_background": "light"
     },
     "output_type": "display_data"
    },
    {
     "data": {
      "image/png": "[encoded data removed]",
      "text/plain": [
       "<Figure size 432x288 with 1 Axes>"
      ]
     },
     "metadata": {
      "needs_background": "light"
     },
     "output_type": "display_data"
    }
   ],
   "source": [
    "# Way undersmoothed\n",
    "print(df.hist(column='Height', bins=1))\n",
    "print(df.hist(column='Height', bins=5))\n",
    "\n",
    "# Oversmoothed?\n",
    "print(df.hist(column='Height', bins=100))"
   ]
  },
  {
   "cell_type": "markdown",
   "metadata": {},
   "source": [
    "## Using Density Plots or KDE \n",
    "\n"
   ]
  },
  {
   "cell_type": "markdown",
   "metadata": {},
   "source": [
    "*Notes from Sarah to Dan*  \n",
    "Are you missing a cell here?  \n",
    "Also, can you summarize the histograms they just made?"
   ]
  },
  {
   "cell_type": "markdown",
   "metadata": {},
   "source": [
    "# Examing the Relationship between Height and Weight\n",
    "\n",
    "After looking at some histograms, we can look at how height and weight look like when plotted together. We can expect some sort of linear relationship there. Intuitively we know that as a person gets taller their weight will increase. "
   ]
  },
  {
   "cell_type": "markdown",
   "metadata": {},
   "source": [
    "*Notes from Sarah to Dan*  \n",
    "Can you explain the next cell?"
   ]
  },
  {
   "cell_type": "code",
   "execution_count": 7,
   "metadata": {},
   "outputs": [],
   "source": [
    "model = LorentzianModel()\n",
    "params = model.guess(df['Weight'], x=df['Height'])\n",
    "result = model.fit(df['Weight'], params, x=df['Height'])"
   ]
  },
  {
   "cell_type": "markdown",
   "metadata": {},
   "source": [
    "Learn about non-linear least squares minimization models\n",
    "https://lmfit.github.io/lmfit-py/builtin_models.html\n"
   ]
  },
  {
   "cell_type": "code",
   "execution_count": 8,
   "metadata": {},
   "outputs": [
    {
     "data": {
      "image/png": "[encoded data removed]",
      "text/plain": [
       "<Figure size 432x288 with 1 Axes>"
      ]
     },
     "metadata": {
      "needs_background": "light"
     },
     "output_type": "display_data"
    },
    {
     "name": "stdout",
     "output_type": "stream",
     "text": [
      "[[Model]]\n",
      "    Model(lorentzian)\n",
      "[[Fit Statistics]]\n",
      "    # fitting method   = leastsq\n",
      "    # function evals   = 101\n",
      "    # data points      = 10000\n",
      "    # variables        = 3\n",
      "    chi-square         = 2.7085e+08\n",
      "    reduced chi-square = 27092.8121\n",
      "    Akaike info crit   = 102073.237\n",
      "    Bayesian info crit = 102094.868\n",
      "##  Warning: uncertainties could not be estimated:\n",
      "    sigma:      at boundary\n",
      "[[Variables]]\n",
      "    amplitude:  1.0226e+11 (init = -2609.691)\n",
      "    center:     71.0082174 (init = 69.68376)\n",
      "    sigma:      0.00000000 (init = 0)\n",
      "    fwhm:       0.00000000 == '2.0000000*sigma'\n",
      "    height:     1.4659e+26 == '0.3183099*amplitude/max(2.220446049250313e-16, sigma)'\n"
     ]
    }
   ],
   "source": [
    "result.plot_fit()\n",
    "plt.show()\n",
    "\n",
    "print(result.fit_report())"
   ]
  },
  {
   "cell_type": "markdown",
   "metadata": {},
   "source": [
    "We can see there is a strong linear relationship here."
   ]
  },
  {
   "cell_type": "markdown",
   "metadata": {},
   "source": [
    "*Notes from Sarah to Dan*  \n",
    "Please add more explanation to the graph."
   ]
  },
  {
   "cell_type": "markdown",
   "metadata": {},
   "source": [
    "# How do height and weight depend on gender?\n",
    "Intuitively we do recognize a relationship. Let's use pandas to discover"
   ]
  },
  {
   "cell_type": "code",
   "execution_count": 9,
   "metadata": {},
   "outputs": [
    {
     "data": {
      "text/html": [
       "<div>\n",
       "<style scoped>\n",
       "    .dataframe tbody tr th:only-of-type {\n",
       "        vertical-align: middle;\n",
       "    }\n",
       "\n",
       "    .dataframe tbody tr th {\n",
       "        vertical-align: top;\n",
       "    }\n",
       "\n",
       "    .dataframe thead th {\n",
       "        text-align: right;\n",
       "    }\n",
       "</style>\n",
       "<table border=\"1\" class=\"dataframe\">\n",
       "  <thead>\n",
       "    <tr style=\"text-align: right;\">\n",
       "      <th></th>\n",
       "      <th>Height</th>\n",
       "      <th>Weight</th>\n",
       "    </tr>\n",
       "  </thead>\n",
       "  <tbody>\n",
       "    <tr>\n",
       "      <th>count</th>\n",
       "      <td>10000.000000</td>\n",
       "      <td>10000.000000</td>\n",
       "    </tr>\n",
       "    <tr>\n",
       "      <th>mean</th>\n",
       "      <td>66.367560</td>\n",
       "      <td>161.440357</td>\n",
       "    </tr>\n",
       "    <tr>\n",
       "      <th>std</th>\n",
       "      <td>3.847528</td>\n",
       "      <td>32.108439</td>\n",
       "    </tr>\n",
       "    <tr>\n",
       "      <th>min</th>\n",
       "      <td>54.263133</td>\n",
       "      <td>64.700127</td>\n",
       "    </tr>\n",
       "    <tr>\n",
       "      <th>25%</th>\n",
       "      <td>63.505620</td>\n",
       "      <td>135.818051</td>\n",
       "    </tr>\n",
       "    <tr>\n",
       "      <th>50%</th>\n",
       "      <td>66.318070</td>\n",
       "      <td>161.212928</td>\n",
       "    </tr>\n",
       "    <tr>\n",
       "      <th>75%</th>\n",
       "      <td>69.174262</td>\n",
       "      <td>187.169525</td>\n",
       "    </tr>\n",
       "    <tr>\n",
       "      <th>max</th>\n",
       "      <td>78.998742</td>\n",
       "      <td>269.989699</td>\n",
       "    </tr>\n",
       "  </tbody>\n",
       "</table>\n",
       "</div>"
      ],
      "text/plain": [
       "             Height        Weight\n",
       "count  10000.000000  10000.000000\n",
       "mean      66.367560    161.440357\n",
       "std        3.847528     32.108439\n",
       "min       54.263133     64.700127\n",
       "25%       63.505620    135.818051\n",
       "50%       66.318070    161.212928\n",
       "75%       69.174262    187.169525\n",
       "max       78.998742    269.989699"
      ]
     },
     "execution_count": 9,
     "metadata": {},
     "output_type": "execute_result"
    }
   ],
   "source": [
    "df.describe()"
   ]
  },
  {
   "cell_type": "code",
   "execution_count": 10,
   "metadata": {},
   "outputs": [],
   "source": [
    "hgt_wgt_gender=df.groupby('Gender')"
   ]
  },
  {
   "cell_type": "code",
   "execution_count": 11,
   "metadata": {},
   "outputs": [
    {
     "name": "stdout",
     "output_type": "stream",
     "text": [
      "        Height                                                        \\\n",
      "         count       mean       std        min        25%        50%   \n",
      "Gender                                                                 \n",
      "Female  5000.0  63.708774  2.696284  54.263133  61.894441  63.730924   \n",
      "Male    5000.0  69.026346  2.863362  58.406905  67.174679  69.027709   \n",
      "\n",
      "                              Weight                                     \\\n",
      "              75%        max   count        mean        std         min   \n",
      "Gender                                                                    \n",
      "Female  65.563565  73.389586  5000.0  135.860093  19.022468   64.700127   \n",
      "Male    70.988744  78.998742  5000.0  187.020621  19.781155  112.902939   \n",
      "\n",
      "                                                        \n",
      "               25%         50%         75%         max  \n",
      "Gender                                                  \n",
      "Female  122.934096  136.117583  148.810926  202.237214  \n",
      "Male    173.887767  187.033546  200.357802  269.989699  \n"
     ]
    }
   ],
   "source": [
    "print(hgt_wgt_gender.describe())"
   ]
  },
  {
   "cell_type": "markdown",
   "metadata": {},
   "source": [
    "Using `groupby` and `describe` we can examine quantiles for height and weight basd on gender all at once."
   ]
  },
  {
   "cell_type": "markdown",
   "metadata": {},
   "source": [
    "*Notes from Sarah to Dan*  \n",
    "Could you provide a couple more sentences explanation here?"
   ]
  },
  {
   "cell_type": "markdown",
   "metadata": {},
   "source": [
    "## What is a Density Plot?\n",
    "\n",
    "A density plot is a smoothed, continuous version of a histogram estimated from the data. The most common form of estimation is known as kernel density estimation. In this method, a continuous curve (the kernel) is drawn at every individual data point and all of these curves are then added together to make a single smooth density estimation. The kernel most often used is a Gaussian (which produces a Gaussian bell curve at each data point)."
   ]
  },
  {
   "cell_type": "markdown",
   "metadata": {},
   "source": [
    "*Notes from Sarah to Dan*  \n",
    "Can you provide an introduction to the cells you're about to run?"
   ]
  },
  {
   "cell_type": "code",
   "execution_count": 23,
   "metadata": {},
   "outputs": [],
   "source": [
    "height = df['Height']"
   ]
  },
  {
   "cell_type": "code",
   "execution_count": 24,
   "metadata": {},
   "outputs": [
    {
     "data": {
      "text/plain": [
       "Gender\n",
       "Male    73.847017\n",
       "Male    68.781904\n",
       "Male    74.110105\n",
       "Male    71.730978\n",
       "Male    69.881796\n",
       "Name: Height, dtype: float64"
      ]
     },
     "execution_count": 24,
     "metadata": {},
     "output_type": "execute_result"
    }
   ],
   "source": [
    "height.head()"
   ]
  },
  {
   "cell_type": "code",
   "execution_count": 25,
   "metadata": {},
   "outputs": [],
   "source": [
    "m_hgt=height.loc['Male']"
   ]
  },
  {
   "cell_type": "code",
   "execution_count": 26,
   "metadata": {},
   "outputs": [],
   "source": [
    "f_hgt=height.loc['Female']"
   ]
  },
  {
   "cell_type": "code",
   "execution_count": 27,
   "metadata": {},
   "outputs": [
    {
     "name": "stdout",
     "output_type": "stream",
     "text": [
      "Gender\n",
      "Male    73.847017\n",
      "Male    68.781904\n",
      "Male    74.110105\n",
      "Male    71.730978\n",
      "Male    69.881796\n",
      "          ...    \n",
      "Male    68.860062\n",
      "Male    68.973423\n",
      "Male    67.013795\n",
      "Male    71.557718\n",
      "Male    70.351880\n",
      "Name: Height, Length: 5000, dtype: float64\n",
      "Gender\n",
      "Female    58.910732\n",
      "Female    65.230013\n",
      "Female    63.369004\n",
      "Female    64.479997\n",
      "Female    61.793096\n",
      "            ...    \n",
      "Female    66.172652\n",
      "Female    67.067155\n",
      "Female    63.867992\n",
      "Female    69.034243\n",
      "Female    61.944246\n",
      "Name: Height, Length: 5000, dtype: float64\n"
     ]
    }
   ],
   "source": [
    "print(m_hgt)\n",
    "print(f_hgt)"
   ]
  },
  {
   "cell_type": "code",
   "execution_count": 44,
   "metadata": {},
   "outputs": [
    {
     "data": {
      "text/plain": [
       "<matplotlib.axes._subplots.AxesSubplot at 0x130647fd0>"
      ]
     },
     "execution_count": 44,
     "metadata": {},
     "output_type": "execute_result"
    },
    {
     "data": {
      "image/png": "[encoded data removed]",
      "text/plain": [
       "<Figure size 432x288 with 1 Axes>"
      ]
     },
     "metadata": {
      "needs_background": "light"
     },
     "output_type": "display_data"
    }
   ],
   "source": [
    "import seaborn as sns\n",
    "sns.distplot(m_hgt, hist=True, kde=True, \n",
    "             bins=int(180/5), color = 'green', \n",
    "             hist_kws={'edgecolor':'green'},\n",
    "             kde_kws={'linewidth': 4})\n",
    "sns.distplot(f_hgt, hist=True, kde=True, \n",
    "             bins=int(180/5), color = 'red', \n",
    "             hist_kws={'edgecolor':'red'},\n",
    "             kde_kws={'linewidth': 4})"
   ]
  },
  {
   "cell_type": "markdown",
   "metadata": {},
   "source": [
    "For men there is a little bump around 6 feet. (Maybe the measurers generously rounded up the guys who are 5'11.5\".) However the distributions look pretty close. Comparing the plots makes it pretty clear. It looks like these are two normal distributions with different means. We can check a Q-Q plot."
   ]
  },
  {
   "cell_type": "markdown",
   "metadata": {},
   "source": [
    "*Notes from Sarah to Dan*  \n",
    "Since we haven't introduced Q-Q plot, maybe just a sentence, even \"described in the next section, to...\""
   ]
  },
  {
   "cell_type": "markdown",
   "metadata": {},
   "source": [
    "## Q-Q Plots\n",
    "\n",
    "In statistics, a Q–Q (quantile-quantile) plot is a probability plot, which is a graphical method for comparing two probability distributions by plotting their quantiles against each other.[1] First, the set of intervals for the quantiles is chosen. A point (x, y) on the plot corresponds to one of the quantiles of the second distribution (y-coordinate) plotted against the same quantile of the first distribution (x-coordinate). Thus the line is a parametric curve with the parameter which is the number of the interval for the quantile.\n",
    "\n",
    "If the two distributions being compared are similar, the points in the Q–Q plot will approximately lie on the line y = x. If the distributions are linearly related, the points in the Q–Q plot will approximately lie on a line, but not necessarily on the line y = x. Q–Q plots can also be used as a graphical means of estimating parameters in a location-scale family of distributions.\n",
    "\n",
    "A Q–Q plot is used to compare the shapes of distributions, providing a graphical view of how properties such as location, scale, and skewness are similar or different in the two distributions. Q–Q plots can be used to compare collections of data, or theoretical distributions. The use of Q–Q plots to compare two samples of data can be viewed as a non-parametric approach to comparing their underlying distributions. A Q–Q plot is generally a more powerful approach to do this than the common technique of comparing histograms of the two samples, but requires more skill to interpret. Q–Q plots are commonly used to compare a data set to a theoretical model.[2][3] This can provide an assessment of \"goodness of fit\" that is graphical, rather than reducing to a numerical summary. Q–Q plots are also used to compare two theoretical distributions to each other.[4] Since Q–Q plots compare distributions, there is no need for the values to be observed as pairs, as in a scatter plot, or even for the numbers of values in the two groups being compared to be equal."
   ]
  },
  {
   "cell_type": "markdown",
   "metadata": {},
   "source": [
    "*Notes from Sarah to Dan*  \n",
    "Again, just a quick sentence intro/summary to code"
   ]
  },
  {
   "cell_type": "code",
   "execution_count": 47,
   "metadata": {},
   "outputs": [
    {
     "data": {
      "image/png": "[encoded data removed]",
      "text/plain": [
       "<Figure size 432x288 with 1 Axes>"
      ]
     },
     "metadata": {
      "needs_background": "light"
     },
     "output_type": "display_data"
    },
    {
     "data": {
      "image/png": "[encoded data removed]",
      "text/plain": [
       "<Figure size 432x288 with 1 Axes>"
      ]
     },
     "metadata": {
      "needs_background": "light"
     },
     "output_type": "display_data"
    }
   ],
   "source": [
    "import statsmodels.api as sm\n",
    "import pylab\n",
    "\n",
    "sm.qqplot(f_hgt)\n",
    "sm.qqplot(m_hgt)\n",
    "pylab.show()"
   ]
  },
  {
   "cell_type": "markdown",
   "metadata": {},
   "source": [
    "These distributions appear to be normal."
   ]
  },
  {
   "cell_type": "markdown",
   "metadata": {},
   "source": [
    "*Notes from Sarah to Dan*  \n",
    "Define \"normal\""
   ]
  },
  {
   "cell_type": "markdown",
   "metadata": {},
   "source": [
    "## Relationship between height and weight by gender\n",
    "\n",
    "We saw earlier that there is a good linear fit of weight versus height, but the distributions of these vary by gender. It's natural to ask if there is a significant difference between the linear fits. First plot the points colored by gender."
   ]
  },
  {
   "cell_type": "code",
   "execution_count": 53,
   "metadata": {},
   "outputs": [],
   "source": [
    "men = df.loc['Male']"
   ]
  },
  {
   "cell_type": "code",
   "execution_count": 54,
   "metadata": {},
   "outputs": [],
   "source": [
    "women = df.loc['Female']"
   ]
  },
  {
   "cell_type": "code",
   "execution_count": 56,
   "metadata": {},
   "outputs": [
    {
     "data": {
      "text/plain": [
       "<matplotlib.axes._subplots.AxesSubplot at 0x130bd60f0>"
      ]
     },
     "execution_count": 56,
     "metadata": {},
     "output_type": "execute_result"
    },
    {
     "data": {
      "image/png": "[encoded data removed]",
      "text/plain": [
       "<Figure size 432x288 with 1 Axes>"
      ]
     },
     "metadata": {
      "needs_background": "light"
     },
     "output_type": "display_data"
    },
    {
     "data": {
      "image/png": "[encoded data removed]",
      "text/plain": [
       "<Figure size 432x288 with 1 Axes>"
      ]
     },
     "metadata": {
      "needs_background": "light"
     },
     "output_type": "display_data"
    }
   ],
   "source": [
    "men.plot.scatter(x='Height', y='Weight')\n",
    "women.plot.scatter(x='Height', y='Weight')"
   ]
  },
  {
   "cell_type": "markdown",
   "metadata": {},
   "source": [
    "It appears that the slopes of these plots are very similar."
   ]
  },
  {
   "cell_type": "markdown",
   "metadata": {},
   "source": [
    "*Notes from Sarah to Dan*  \n",
    "Slightly more description here, and a wrap up of the project."
   ]
  },
  {
   "cell_type": "code",
   "execution_count": null,
   "metadata": {},
   "outputs": [],
   "source": []
  }
 ],
 "metadata": {
  "kernelspec": {
   "display_name": "Python 3",
   "language": "python",
   "name": "python3"
  },
  "language_info": {
   "codemirror_mode": {
    "name": "ipython",
    "version": 3
   },
   "file_extension": ".py",
   "mimetype": "text/x-python",
   "name": "python",
   "nbconvert_exporter": "python",
   "pygments_lexer": "ipython3",
   "version": "3.7.0"
  }
 },
 "nbformat": 4,
 "nbformat_minor": 4
}
