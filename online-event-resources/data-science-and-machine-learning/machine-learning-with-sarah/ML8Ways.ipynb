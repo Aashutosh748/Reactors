{
 "metadata": {
  "language_info": {
   "codemirror_mode": {
    "name": "ipython",
    "version": 3
   },
   "file_extension": ".py",
   "mimetype": "text/x-python",
   "name": "python",
   "nbconvert_exporter": "python",
   "pygments_lexer": "ipython3",
   "version": 3
  },
  "orig_nbformat": 2,
  "kernelspec": {
   "name": "python_defaultSpec_1595509754278",
   "display_name": "Python 3.8.2 32-bit"
  }
 },
 "nbformat": 4,
 "nbformat_minor": 2,
 "cells": [
  {
   "cell_type": "markdown",
   "metadata": {},
   "source": [
    "# Machine Learning 8 Ways\n",
    "\n",
    "The goal of this notebook is not to have a comprehensive guide of all machine learning algorithms, but to touch the surface on 8 different types of algorithms, showing an example of each. \n",
    "\n",
    "The 8 types of algorithms is being taken from the [Azure Machine Learning Algorithm Cheatsheet](https://docs.microsoft.com/en-us/azure/machine-learning/algorithm-cheat-sheet)"
   ]
  },
  {
   "cell_type": "markdown",
   "metadata": {},
   "source": [
    "# Text Analytics\n",
    "### To answer a question like: What information is in this text?\n",
    "\n",
    "Text analytics can be useful when trying to figure out if reviews are generally positive or negative, to identify important topics in large bodies of text. For this example, we're going to start off using AI that is based on machine learning. While this isn't using the machine learning algorithm itself, Azure Cognitive Services are services that allow you to call an API endpoint to use existing models such as a text analytics model. \n",
    "\n",
    "## Why might an AI be enough here?\n",
    "\n",
    "When it comes to text analytics, you might have something unique about your data. For example, you might qualify a positive review as a very specific set of attributes (e.g. they positively review customer service, the product, and the price) and if the text doesn't meet your specific qualifications, you want to mark it as negative. In this case, you might want to consider training your own model. \n",
    "\n",
    "In this case, I don't have anything specific I want to analyze. I'm interested in a general understanding of what keywords are and a general sentiment. An AI service, like the one Azure Cognitive Services offers, is a model that has already been trained on numerous inputs to provide a pretty accurate, but general, understanding of the text. So, to kickstart these 8-ways, I wanted to point out that sometimes using an existing model is enough!\n",
    "\n",
    "## What do we want to know?\n",
    "\n",
    "Coming Soon\n",
    "\n",
    "## How do we get started?\n",
    "\n",
    "We're going to use [Azure Cognitive Services Text Analytics API](https://azure.microsoft.com/services/cognitive-services/text-analytics/). Remember, if you're a student you can get a [student free trial](https://azure.microsoft.com/free/students/) and if you're not you can get a [normal free trail](https://azure.microsoft.com/free/) to Azure!\n",
    "\n",
    "[Here is a quickstart](https://docs.microsoft.com/en-us/azure/cognitive-services/text-analytics/quickstarts/text-analytics-sdk?tabs=version-3&pivots=programming-language-python) to using the Text Analytics API for keyword extraction.\n"
   ]
  },
  {
   "cell_type": "code",
   "execution_count": null,
   "metadata": {
    "tags": []
   },
   "outputs": [],
   "source": [
    "!pip install azure-ai-textanalytics"
   ]
  },
  {
   "cell_type": "code",
   "execution_count": null,
   "metadata": {},
   "outputs": [],
   "source": [
    "# key = \"<paste-your-text-analytics-key-here>\"\n",
    "# endpoint = \"<paste-your-text-analytics-endpoint-here>\"\n",
    "\n",
    "key = \"a75cb10d85f641eba4512644dcf05c75\"\n",
    "endpoint = \"https://westus.api.cognitive.microsoft.com/\"\n",
    "\n",
    "from azure.ai.textanalytics import TextAnalyticsClient\n",
    "from azure.core.credentials import AzureKeyCredential\n",
    "\n",
    "def authenticate_client():\n",
    "    ta_credential = AzureKeyCredential(key)\n",
    "    text_analytics_client = TextAnalyticsClient(\n",
    "            endpoint=endpoint, credential=ta_credential)\n",
    "    return text_analytics_client\n",
    "\n",
    "client = authenticate_client()"
   ]
  },
  {
   "cell_type": "code",
   "execution_count": null,
   "metadata": {},
   "outputs": [],
   "source": [
    "def sentiment_analysis(client, documents):\n",
    "\n",
    "    response = client.analyze_sentiment(documents = documents)[0]\n",
    "    print(\"Document Sentiment: {}\".format(response.sentiment))\n",
    "    print(\"Overall scores: positive={0:.2f}; neutral={1:.2f}; negative={2:.2f} \\n\".format(\n",
    "        response.confidence_scores.positive,\n",
    "        response.confidence_scores.neutral,\n",
    "        response.confidence_scores.negative,\n",
    "    ))\n",
    "    for idx, sentence in enumerate(response.sentences):\n",
    "        print(\"Sentence: {}\".format(sentence.text))\n",
    "        print(\"Sentence {} sentiment: {}\".format(idx+1, sentence.sentiment))\n",
    "        print(\"Sentence score:\\nPositive={0:.2f}\\nNeutral={1:.2f}\\nNegative={2:.2f}\\n\".format(\n",
    "            sentence.confidence_scores.positive,\n",
    "            sentence.confidence_scores.neutral,\n",
    "            sentence.confidence_scores.negative,\n",
    "        ))"
   ]
  },
  {
   "cell_type": "code",
   "execution_count": null,
   "metadata": {
    "tags": []
   },
   "outputs": [],
   "source": [
    "text_file = open(\"DissertationIntro.txt\")\n",
    "text = text_file.readlines()\n",
    "print(len(text))"
   ]
  },
  {
   "cell_type": "code",
   "execution_count": null,
   "metadata": {
    "tags": []
   },
   "outputs": [],
   "source": [
    "total = 0\n",
    "lines = 0\n",
    "for line in text:\n",
    "    total += len(line)\n",
    "    if total < 5120:\n",
    "        lines += 1\n",
    "print(total)\n",
    "print(lines)"
   ]
  },
  {
   "cell_type": "code",
   "execution_count": null,
   "metadata": {
    "tags": []
   },
   "outputs": [],
   "source": [
    "limited_text = text[:11]\n",
    "print(len(limited_text))\n",
    "\n",
    "limited_string = ''\n",
    "for line in limited_text:\n",
    "    limited_string += line\n",
    "print(len(limited_string))"
   ]
  },
  {
   "cell_type": "code",
   "execution_count": null,
   "metadata": {
    "tags": []
   },
   "outputs": [],
   "source": [
    "sentiment_analysis(client, [limited_string])"
   ]
  },
  {
   "cell_type": "code",
   "execution_count": null,
   "metadata": {},
   "outputs": [],
   "source": [
    "def key_phrase_extraction(client, documents):\n",
    "\n",
    "    try:\n",
    "        response = client.extract_key_phrases(documents = documents)[0]\n",
    "\n",
    "        if not response.is_error:\n",
    "            print(\"\\tKey Phrases:\")\n",
    "            for phrase in response.key_phrases:\n",
    "                print(\"\\t\\t\", phrase)\n",
    "        else:\n",
    "            print(response.id, response.error)\n",
    "\n",
    "    except Exception as err:\n",
    "        print(\"Encountered exception. {}\".format(err))"
   ]
  },
  {
   "cell_type": "code",
   "execution_count": null,
   "metadata": {
    "tags": []
   },
   "outputs": [],
   "source": [
    "key_phrase_extraction(client, [limited_string])"
   ]
  },
  {
   "cell_type": "markdown",
   "metadata": {},
   "source": [
    "# Classify Images\n",
    "\n",
    "[Tutorial: Train an image classification model with Azure Machine Learning](https://github.com/Azure/MachineLearningNotebooks/blob/master/tutorials/image-classification-mnist-data/img-classification-part1-training.ipynb)"
   ]
  },
  {
   "cell_type": "code",
   "execution_count": 49,
   "metadata": {
    "tags": []
   },
   "outputs": [
    {
     "output_type": "stream",
     "name": "stderr",
     "text": "WARNING: You are using pip version 19.2.3, however version 20.1.1 is available.\nYou should consider upgrading via the 'python -m pip install --upgrade pip' command.\nRequirement already satisfied: numpy in c:\\users\\sarah\\appdata\\local\\programs\\python\\python38-32\\lib\\site-packages (1.18.3)\n"
    }
   ],
   "source": [
    "!pip install numpy"
   ]
  },
  {
   "cell_type": "code",
   "execution_count": 51,
   "metadata": {
    "tags": []
   },
   "outputs": [
    {
     "output_type": "stream",
     "name": "stdout",
     "text": "-sdk[automl,explain])\n  Downloading https://files.pythonhosted.org/packages/5e/17/4724694ddb3311955ddc367eddcd0928f8ee2c7b12d5a6f0b12bca0b03db/azure_mgmt_authorization-0.60.0-py2.py3-none-any.whl (82kB)\nCollecting pyarrow>=0.17.0 (from azureml-dataset-runtime[fuse]~=1.10.0->azureml-sdk[automl,explain])\n  Using cached https://files.pythonhosted.org/packages/ed/c9/85d179d5a0575e1b066fb94bfe1e37b6d3ca546b58e75b9d1ca4952320de/pyarrow-0.17.1.tar.gz\n  Installing build dependencies: started\n  Installing build dependencies: finished with status 'error'\n           cwd: C:\\Users\\Sarah\\AppData\\Local\\Temp\\pip-install-s4nr2ioa\\numpy\\\n      Complete output (288 lines):\n      Running from numpy source directory.\n  \n      Note: if you need reliable uninstall behavior, then install\n      with pip instead of using `setup.py install`:\n  \n        - `pip install .`       (from a git repo or downloaded source\n                                 release)\n        - `pip install numpy`   (last NumPy release on PyPi)\n  \n  \n      blas_opt_info:\n      blas_mkl_info:\n      No module named 'numpy.distutils._msvccompiler' in numpy.distutils; trying from distutils\n      customize MSVCCompiler\n        libraries mkl_rt not found in ['c:\\\\users\\\\sarah\\\\appdata\\\\local\\\\programs\\\\python\\\\python38-32\\\\lib', 'C:\\\\', 'c:\\\\users\\\\sarah\\\\appdata\\\\local\\\\programs\\\\python\\\\python38-32\\\\libs']\n        NOT AVAILABLE\n  \n      blis_info:\n      No module named 'numpy.distutils._msvccompiler' in numpy.distutils; trying from distutils\n      customize MSVCCompiler\n        libraries blis not found in ['c:\\\\users\\\\sarah\\\\appdata\\\\local\\\\programs\\\\python\\\\python38-32\\\\lib', 'C:\\\\', 'c:\\\\users\\\\sarah\\\\appdata\\\\local\\\\programs\\\\python\\\\python38-32\\\\libs']\n        NOT AVAILABLE\n  \n      openblas_info:\n      No module named 'numpy.distutils._msvccompiler' in numpy.distutils; trying from distutils\n      customize MSVCCompiler\n      No module named 'numpy.distutils._msvccompiler' in numpy.distutils; trying from distutils\n      customize MSVCCompiler\n        libraries openblas not found in ['c:\\\\users\\\\sarah\\\\appdata\\\\local\\\\programs\\\\python\\\\python38-32\\\\lib', 'C:\\\\', 'c:\\\\users\\\\sarah\\\\appdata\\\\local\\\\programs\\\\python\\\\python38-32\\\\libs']\n      get_default_fcompiler: matching types: '['gnu', 'intelv', 'absoft', 'compaqv', 'intelev', 'gnu95', 'g95', 'intelvem', 'intelem', 'flang']'\n      customize GnuFCompiler\n      Could not locate executable g77\n      Could not locate executable f77\n      customize IntelVisualFCompiler\n      Could not locate executable ifort\n      Could not locate executable ifl\n      customize AbsoftFCompiler\n      Could not locate executable f90\n      customize CompaqVisualFCompiler\n      Could not locate executable DF\n      customize IntelItaniumVisualFCompiler\n      Could not locate executable efl\n      customize Gnu95FCompiler\n      Could not locate executable gfortran\n      Could not locate executable f95\n      customize G95FCompiler\n      Could not locate executable g95\n      customize IntelEM64VisualFCompiler\n      customize IntelEM64TFCompiler\n      Could not locate executable efort\n      Could not locate executable efc\n      customize PGroupFlangCompiler\n      Could not locate executable flang\n      don't know how to compile Fortran code on platform 'nt'\n        NOT AVAILABLE\n  \n      atlas_3_10_blas_threads_info:\n      Setting PTATLAS=ATLAS\n      No module named 'numpy.distutils._msvccompiler' in numpy.distutils; trying from distutils\n      customize MSVCCompiler\n        libraries tatlas not found in ['c:\\\\users\\\\sarah\\\\appdata\\\\local\\\\programs\\\\python\\\\python38-32\\\\lib', 'C:\\\\', 'c:\\\\users\\\\sarah\\\\appdata\\\\local\\\\programs\\\\python\\\\python38-32\\\\libs']\n        NOT AVAILABLE\n  \n      atlas_3_10_blas_info:\n      No module named 'numpy.distutils._msvccompiler' in numpy.distutils; trying from distutils\n      customize MSVCCompiler\n        libraries satlas not found in ['c:\\\\users\\\\sarah\\\\appdata\\\\local\\\\programs\\\\python\\\\python38-32\\\\lib', 'C:\\\\', 'c:\\\\users\\\\sarah\\\\appdata\\\\local\\\\programs\\\\python\\\\python38-32\\\\libs']\n        NOT AVAILABLE\n  \n      atlas_blas_threads_info:\n      Setting PTATLAS=ATLAS\n      No module named 'numpy.distutils._msvccompiler' in numpy.distutils; trying from distutils\n      customize MSVCCompiler\n        libraries ptf77blas,ptcblas,atlas not found in ['c:\\\\users\\\\sarah\\\\appdata\\\\local\\\\programs\\\\python\\\\python38-32\\\\lib', 'C:\\\\', 'c:\\\\users\\\\sarah\\\\appdata\\\\local\\\\programs\\\\python\\\\python38-32\\\\libs']\n        NOT AVAILABLE\n  \n      atlas_blas_info:\n      No module named 'numpy.distutils._msvccompiler' in numpy.distutils; trying from distutils\n      customize MSVCCompiler\n        libraries f77blas,cblas,atlas not found in ['c:\\\\users\\\\sarah\\\\appdata\\\\local\\\\programs\\\\python\\\\python38-32\\\\lib', 'C:\\\\', 'c:\\\\users\\\\sarah\\\\appdata\\\\local\\\\programs\\\\python\\\\python38-32\\\\libs']\n        NOT AVAILABLE\n  \n      accelerate_info:\n        NOT AVAILABLE\n  \n      blas_info:\n      No module named 'numpy.distutils._msvccompiler' in numpy.distutils; trying from distutils\n      customize MSVCCompiler\n        libraries blas not found in ['c:\\\\users\\\\sarah\\\\appdata\\\\local\\\\programs\\\\python\\\\python38-32\\\\lib', 'C:\\\\', 'c:\\\\users\\\\sarah\\\\appdata\\\\local\\\\programs\\\\python\\\\python38-32\\\\libs']\n        NOT AVAILABLE\n  \n      blas_src_info:\n        NOT AVAILABLE\n  \n        NOT AVAILABLE\n  \n      'svnversion' is not recognized as an internal or external command,\n      operable program or batch file.\n      non-existing path in 'numpy\\\\distutils': 'site.cfg'\n      lapack_opt_info:\n      lapack_mkl_info:\n      No module named 'numpy.distutils._msvccompiler' in numpy.distutils; trying from distutils\n      customize MSVCCompiler\n        libraries mkl_rt not found in ['c:\\\\users\\\\sarah\\\\appdata\\\\local\\\\programs\\\\python\\\\python38-32\\\\lib', 'C:\\\\', 'c:\\\\users\\\\sarah\\\\appdata\\\\local\\\\programs\\\\python\\\\python38-32\\\\libs']\n        NOT AVAILABLE\n  \n      openblas_lapack_info:\n      No module named 'numpy.distutils._msvccompiler' in numpy.distutils; trying from distutils\n      customize MSVCCompiler\n      No module named 'numpy.distutils._msvccompiler' in numpy.distutils; trying from distutils\n      customize MSVCCompiler\n        libraries openblas not found in ['c:\\\\users\\\\sarah\\\\appdata\\\\local\\\\programs\\\\python\\\\python38-32\\\\lib', 'C:\\\\', 'c:\\\\users\\\\sarah\\\\appdata\\\\local\\\\programs\\\\python\\\\python38-32\\\\libs']\n        NOT AVAILABLE\n  \n      openblas_clapack_info:\n      No module named 'numpy.distutils._msvccompiler' in numpy.distutils; trying from distutils\n      customize MSVCCompiler\n      No module named 'numpy.distutils._msvccompiler' in numpy.distutils; trying from distutils\n      customize MSVCCompiler\n        libraries openblas,lapack not found in ['c:\\\\users\\\\sarah\\\\appdata\\\\local\\\\programs\\\\python\\\\python38-32\\\\lib', 'C:\\\\', 'c:\\\\users\\\\sarah\\\\appdata\\\\local\\\\programs\\\\python\\\\python38-32\\\\libs']\n        NOT AVAILABLE\n  \n      atlas_3_10_threads_info:\n      Setting PTATLAS=ATLAS\n      No module named 'numpy.distutils._msvccompiler' in numpy.distutils; trying from distutils\n      customize MSVCCompiler\n        libraries lapack_atlas not found in c:\\users\\sarah\\appdata\\local\\programs\\python\\python38-32\\lib\n      No module named 'numpy.distutils._msvccompiler' in numpy.distutils; trying from distutils\n      customize MSVCCompiler\n        libraries tatlas,tatlas not found in c:\\users\\sarah\\appdata\\local\\programs\\python\\python38-32\\lib\n      No module named 'numpy.distutils._msvccompiler' in numpy.distutils; trying from distutils\n      customize MSVCCompiler\n        libraries lapack_atlas not found in C:\\\n      No module named 'numpy.distutils._msvccompiler' in numpy.distutils; trying from distutils\n      customize MSVCCompiler\n        libraries tatlas,tatlas not found in C:\\\n      No module named 'numpy.distutils._msvccompiler' in numpy.distutils; trying from distutils\n      customize MSVCCompiler\n        libraries lapack_atlas not found in c:\\users\\sarah\\appdata\\local\\programs\\python\\python38-32\\libs\n      No module named 'numpy.distutils._msvccompiler' in numpy.distutils; trying from distutils\n      customize MSVCCompiler\n        libraries tatlas,tatlas not found in c:\\users\\sarah\\appdata\\local\\programs\\python\\python38-32\\libs\n      <class 'numpy.distutils.system_info.atlas_3_10_threads_info'>\n        NOT AVAILABLE\n  \n      atlas_3_10_info:\n      No module named 'numpy.distutils._msvccompiler' in numpy.distutils; trying from distutils\n      customize MSVCCompiler\n        libraries lapack_atlas not found in c:\\users\\sarah\\appdata\\local\\programs\\python\\python38-32\\lib\n      No module named 'numpy.distutils._msvccompiler' in numpy.distutils; trying from distutils\n      customize MSVCCompiler\n        libraries satlas,satlas not found in c:\\users\\sarah\\appdata\\local\\programs\\python\\python38-32\\lib\n      No module named 'numpy.distutils._msvccompiler' in numpy.distutils; trying from distutils\n      customize MSVCCompiler\n        libraries lapack_atlas not found in C:\\\n      No module named 'numpy.distutils._msvccompiler' in numpy.distutils; trying from distutils\n      customize MSVCCompiler\n        libraries satlas,satlas not found in C:\\\n      No module named 'numpy.distutils._msvccompiler' in numpy.distutils; trying from distutils\n      customize MSVCCompiler\n        libraries lapack_atlas not found in c:\\users\\sarah\\appdata\\local\\programs\\python\\python38-32\\libs\n      No module named 'numpy.distutils._msvccompiler' in numpy.distutils; trying from distutils\n      customize MSVCCompiler\n        libraries satlas,satlas not found in c:\\users\\sarah\\appdata\\local\\programs\\python\\python38-32\\libs\n      <class 'numpy.distutils.system_info.atlas_3_10_info'>\n        NOT AVAILABLE\n  \n      atlas_threads_info:\n      Setting PTATLAS=ATLAS\n      No module named 'numpy.distutils._msvccompiler' in numpy.distutils; trying from distutils\n      customize MSVCCompiler\n        libraries lapack_atlas not found in c:\\users\\sarah\\appdata\\local\\programs\\python\\python38-32\\lib\n      No module named 'numpy.distutils._msvccompiler' in numpy.distutils; trying from distutils\n      customize MSVCCompiler\n        libraries ptf77blas,ptcblas,atlas not found in c:\\users\\sarah\\appdata\\local\\programs\\python\\python38-32\\lib\n      No module named 'numpy.distutils._msvccompiler' in numpy.distutils; trying from distutils\n      customize MSVCCompiler\n        libraries lapack_atlas not found in C:\\\n      No module named 'numpy.distutils._msvccompiler' in numpy.distutils; trying from distutils\n      customize MSVCCompiler\n        libraries ptf77blas,ptcblas,atlas not found in C:\\\n      No module named 'numpy.distutils._msvccompiler' in numpy.distutils; trying from distutils\n      customize MSVCCompiler\n        libraries lapack_atlas not found in c:\\users\\sarah\\appdata\\local\\programs\\python\\python38-32\\libs\n      No module named 'numpy.distutils._msvccompiler' in numpy.distutils; trying from distutils\n      customize MSVCCompiler\n        libraries ptf77blas,ptcblas,atlas not found in c:\\users\\sarah\\appdata\\local\\programs\\python\\python38-32\\libs\n      <class 'numpy.distutils.system_info.atlas_threads_info'>\n        NOT AVAILABLE\n  \n      atlas_info:\n      No module named 'numpy.distutils._msvccompiler' in numpy.distutils; trying from distutils\n      customize MSVCCompiler\n        libraries lapack_atlas not found in c:\\users\\sarah\\appdata\\local\\programs\\python\\python38-32\\lib\n      No module named 'numpy.distutils._msvccompiler' in numpy.distutils; trying from distutils\n      customize MSVCCompiler\n        libraries f77blas,cblas,atlas not found in c:\\users\\sarah\\appdata\\local\\programs\\python\\python38-32\\lib\n      No module named 'numpy.distutils._msvccompiler' in numpy.distutils; trying from distutils\n      customize MSVCCompiler\n        libraries lapack_atlas not found in C:\\\n      No module named 'numpy.distutils._msvccompiler' in numpy.distutils; trying from distutils\n      customize MSVCCompiler\n        libraries f77blas,cblas,atlas not found in C:\\\n      No module named 'numpy.distutils._msvccompiler' in numpy.distutils; trying from distutils\n      customize MSVCCompiler\n        libraries lapack_atlas not found in c:\\users\\sarah\\appdata\\local\\programs\\python\\python38-32\\libs\n      No module named 'numpy.distutils._msvccompiler' in numpy.distutils; trying from distutils\n      customize MSVCCompiler\n        libraries f77blas,cblas,atlas not found in c:\\users\\sarah\\appdata\\local\\programs\\python\\python38-32\\libs\n      <class 'numpy.distutils.system_info.atlas_info'>\n        NOT AVAILABLE\n  \n      lapack_info:\n      No module named 'numpy.distutils._msvccompiler' in numpy.distutils; trying from distutils\n      customize MSVCCompiler\n        libraries lapack not found in ['c:\\\\users\\\\sarah\\\\appdata\\\\local\\\\programs\\\\python\\\\python38-32\\\\lib', 'C:\\\\', 'c:\\\\users\\\\sarah\\\\appdata\\\\local\\\\programs\\\\python\\\\python38-32\\\\libs']\n        NOT AVAILABLE\n  \n      lapack_src_info:\n        NOT AVAILABLE\n  \n        NOT AVAILABLE\n  \n      running install\n      running build\n      running config_cc\n      unifing config_cc, config, build_clib, build_ext, build commands --compiler options\n      running config_fc\n      unifing config_fc, config, build_clib, build_ext, build commands --fcompiler options\n      running build_src\n      build_src\n      building py_modules sources\n      creating build\n      creating build\\src.win32-3.8\n      creating build\\src.win32-3.8\\numpy\n      creating build\\src.win32-3.8\\numpy\\distutils\n      building library \"npymath\" sources\n      No module named 'numpy.distutils._msvccompiler' in numpy.distutils; trying from distutils\n      C:\\Program Files (x86)\\Microsoft Visual Studio\\2019\\Community\\VC\\Tools\\MSVC\\14.26.28801\\bin\\HostX86\\x86\\cl.exe /c /nologo /Ox /W3 /GL /DNDEBUG /MD -Inumpy\\core\\src\\common -Inumpy\\core\\src -Inumpy\\core -Inumpy\\core\\src\\npymath -Inumpy\\core\\src\\multiarray -Inumpy\\core\\src\\umath -Inumpy\\core\\src\\npysort -Ic:\\users\\sarah\\appdata\\local\\programs\\python\\python38-32\\include -Ic:\\users\\sarah\\appdata\\local\\programs\\python\\python38-32\\include -IC:\\Program Files (x86)\\Microsoft Visual Studio\\2019\\Community\\VC\\Tools\\MSVC\\14.26.28801\\include /Tc_configtest.c /Fo_configtest.obj\n      C:\\Program Files (x86)\\Microsoft Visual Studio\\2019\\Community\\VC\\Tools\\MSVC\\14.26.28801\\bin\\HostX86\\x86\\link.exe /nologo /INCREMENTAL:NO /LTCG /MANIFEST:EMBED,ID=1 /LIBPATH:C:\\Program Files (x86)\\Microsoft Visual Studio\\2019\\Community\\VC\\Tools\\MSVC\\14.26.28801\\lib\\x86 _configtest.obj /OUT:_configtest.exe\n      LINK : fatal error LNK1104: cannot open file 'kernel32.lib'\n      failure.\n      removing: _configtest.c _configtest.obj _configtest.obj.d\n      Traceback (most recent call last):\n        File \"<string>\", line 1, in <module>\n        File \"C:\\Users\\Sarah\\AppData\\Local\\Temp\\pip-install-s4nr2ioa\\numpy\\setup.py\", line 415, in <module>\n          setup_package()\n        File \"C:\\Users\\Sarah\\AppData\\Local\\Temp\\pip-install-s4nr2ioa\\numpy\\setup.py\", line 407, in setup_package\n          setup(**metadata)\n        File \"C:\\Users\\Sarah\\AppData\\Local\\Temp\\pip-install-s4nr2ioa\\numpy\\numpy\\distutils\\core.py\", line 171, in setup\n          return old_setup(**new_attr)\n        File \"c:\\users\\sarah\\appdata\\local\\programs\\python\\python38-32\\lib\\site-packages\\setuptools\\__init__.py\", line 145, in setup\n          return distutils.core.setup(**attrs)\n        File \"c:\\users\\sarah\\appdata\\local\\programs\\python\\python38-32\\lib\\distutils\\core.py\", line 148, in setup\n          dist.run_commands()\n        File \"c:\\users\\sarah\\appdata\\local\\programs\\python\\python38-32\\lib\\distutils\\dist.py\", line 966, in run_commands\n          self.run_command(cmd)\n        File \"c:\\users\\sarah\\appdata\\local\\programs\\python\\python38-32\\lib\\distutils\\dist.py\", line 985, in run_command\n          cmd_obj.run()\n        File \"C:\\Users\\Sarah\\AppData\\Local\\Temp\\pip-install-s4nr2ioa\\numpy\\numpy\\distutils\\command\\install.py\", line 62, in run\n          r = self.setuptools_run()\n        File \"C:\\Users\\Sarah\\AppData\\Local\\Temp\\pip-install-s4nr2ioa\\numpy\\numpy\\distutils\\command\\install.py\", line 36, in setuptools_run\n          return distutils_install.run(self)\n        File \"c:\\users\\sarah\\appdata\\local\\programs\\python\\python38-32\\lib\\distutils\\command\\install.py\", line 545, in run\n          self.run_command('build')\n        File \"c:\\users\\sarah\\appdata\\local\\programs\\python\\python38-32\\lib\\distutils\\cmd.py\", line 313, in run_command\n          self.distribution.run_command(command)\n        File \"c:\\users\\sarah\\appdata\\local\\programs\\python\\python38-32\\lib\\distutils\\dist.py\", line 985, in run_command\n          cmd_obj.run()\n        File \"C:\\Users\\Sarah\\AppData\\Local\\Temp\\pip-install-s4nr2ioa\\numpy\\numpy\\distutils\\command\\build.py\", line 47, in run\n          old_build.run(self)\n        File \"c:\\users\\sarah\\appdata\\local\\programs\\python\\python38-32\\lib\\distutils\\command\\build.py\", line 135, in run\n          self.run_command(cmd_name)\n        File \"c:\\users\\sarah\\appdata\\local\\programs\\python\\python38-32\\lib\\distutils\\cmd.py\", line 313, in run_command\n          self.distribution.run_command(command)\n        File \"c:\\users\\sarah\\appdata\\local\\programs\\python\\python38-32\\lib\\distutils\\dist.py\", line 985, in run_command\n          cmd_obj.run()\n        File \"C:\\Users\\Sarah\\AppData\\Local\\Temp\\pip-install-s4nr2ioa\\numpy\\numpy\\distutils\\command\\build_src.py\", line 148, in run\n          self.build_sources()\n        File \"C:\\Users\\Sarah\\AppData\\Local\\Temp\\pip-install-s4nr2ioa\\numpy\\numpy\\distutils\\command\\build_src.py\", line 159, in build_sources\n          self.build_library_sources(*libname_info)\n        File \"C:\\Users\\Sarah\\AppData\\Local\\Temp\\pip-install-s4nr2ioa\\numpy\\numpy\\distutils\\command\\build_src.py\", line 292, in build_library_sources\n          sources = self.generate_sources(sources, (lib_name, build_info))\n        File \"C:\\Users\\Sarah\\AppData\\Local\\Temp\\pip-install-s4nr2ioa\\numpy\\numpy\\distutils\\command\\build_src.py\", line 375, in generate_sources\n          source = func(extension, build_dir)\n        File \"numpy\\core\\setup.py\", line 667, in get_mathlib_info\n          raise RuntimeError(\"Broken toolchain: cannot link a simple C program\")\n      RuntimeError: Broken toolchain: cannot link a simple C program\n      ----------------------------------------\n  ERROR: Command errored out with exit status 1: 'c:\\users\\sarah\\appdata\\local\\programs\\python\\python38-32\\python.exe' -u -c 'import sys, setuptools, tokenize; sys.argv[0] = '\"'\"'C:\\\\Users\\\\Sarah\\\\AppData\\\\Local\\\\Temp\\\\pip-install-s4nr2ioa\\\\numpy\\\\setup.py'\"'\"'; __file__='\"'\"'C:\\\\Users\\\\Sarah\\\\AppData\\\\Local\\\\Temp\\\\pip-install-s4nr2ioa\\\\numpy\\\\setup.py'\"'\"';f=getattr(tokenize, '\"'\"'open'\"'\"', open)(__file__);code=f.read().replace('\"'\"'\\r\\n'\"'\"', '\"'\"'\\n'\"'\"');f.close();exec(compile(code, __file__, '\"'\"'exec'\"'\"'))' install --record 'C:\\Users\\Sarah\\AppData\\Local\\Temp\\pip-record-38ef84hj\\install-record.txt' --single-version-externally-managed --prefix 'C:\\Users\\Sarah\\AppData\\Local\\Temp\\pip-build-env-gr5iy45k\\overlay' --compile Check the logs for full command output.\n  WARNING: You are using pip version 19.2.3, however version 20.1.1 is available.\n  You should consider upgrading via the 'python -m pip install --upgrade pip' command.\n  ----------------------------------------\nERROR: Command errored out with exit status 1: 'c:\\users\\sarah\\appdata\\local\\programs\\python\\python38-32\\python.exe' 'c:\\users\\sarah\\appdata\\local\\programs\\python\\python38-32\\lib\\site-packages\\pip' install --ignore-installed --no-user --prefix 'C:\\Users\\Sarah\\AppData\\Local\\Temp\\pip-build-env-gr5iy45k\\overlay' --no-warn-script-location --no-binary :none: --only-binary :none: -i https://pypi.org/simple -- 'cython >= 0.29' 'numpy==1.14.5; python_version<'\"'\"'3.7'\"'\"'' 'numpy==1.16.0; python_version>='\"'\"'3.7'\"'\"'' setuptools setuptools_scm wheel Check the logs for full command output.\nWARNING: You are using pip version 19.2.3, however version 20.1.1 is available.\nYou should consider upgrading via the 'python -m pip install --upgrade pip' command.\n"
    }
   ],
   "source": [
    "!pip install --upgrade azureml-sdk[explain,automl]"
   ]
  },
  {
   "cell_type": "code",
   "execution_count": null,
   "metadata": {},
   "outputs": [],
   "source": [
    "!pip install azureml.opendatasets"
   ]
  },
  {
   "cell_type": "code",
   "execution_count": 47,
   "metadata": {},
   "outputs": [
    {
     "output_type": "error",
     "ename": "ModuleNotFoundError",
     "evalue": "No module named 'azureml'",
     "traceback": [
      "\u001b[1;31m---------------------------------------------------------------------------\u001b[0m",
      "\u001b[1;31mModuleNotFoundError\u001b[0m                       Traceback (most recent call last)",
      "\u001b[1;32m<ipython-input-47-4718e0601637>\u001b[0m in \u001b[0;36m<module>\u001b[1;34m\u001b[0m\n\u001b[0;32m      3\u001b[0m \u001b[1;32mimport\u001b[0m \u001b[0mmatplotlib\u001b[0m\u001b[1;33m.\u001b[0m\u001b[0mpyplot\u001b[0m \u001b[1;32mas\u001b[0m \u001b[0mplt\u001b[0m\u001b[1;33m\u001b[0m\u001b[1;33m\u001b[0m\u001b[0m\n\u001b[0;32m      4\u001b[0m \u001b[1;33m\u001b[0m\u001b[0m\n\u001b[1;32m----> 5\u001b[1;33m \u001b[1;32mimport\u001b[0m \u001b[0mazureml\u001b[0m\u001b[1;33m.\u001b[0m\u001b[0mcore\u001b[0m\u001b[1;33m\u001b[0m\u001b[1;33m\u001b[0m\u001b[0m\n\u001b[0m\u001b[0;32m      6\u001b[0m \u001b[1;32mfrom\u001b[0m \u001b[0mazureml\u001b[0m\u001b[1;33m.\u001b[0m\u001b[0mcore\u001b[0m \u001b[1;32mimport\u001b[0m \u001b[0mWorkspace\u001b[0m\u001b[1;33m\u001b[0m\u001b[1;33m\u001b[0m\u001b[0m\n\u001b[0;32m      7\u001b[0m \u001b[1;33m\u001b[0m\u001b[0m\n",
      "\u001b[1;31mModuleNotFoundError\u001b[0m: No module named 'azureml'"
     ]
    }
   ],
   "source": [
    "%matplotlib inline\n",
    "import numpy as np\n",
    "import matplotlib.pyplot as plt\n",
    "\n",
    "import azureml.core\n",
    "from azureml.core import Workspace\n",
    "\n",
    "# check core SDK version number\n",
    "print(\"Azure ML SDK Version: \", azureml.core.VERSION)"
   ]
  },
  {
   "cell_type": "markdown",
   "metadata": {},
   "source": [
    "# Predict Values\n",
    "\n",
    "[Tutorial: Use automated machine learning to predict taxi fares](https://github.com/Azure/MachineLearningNotebooks/blob/master/tutorials/regression-automl-nyc-taxi-data/regression-automated-ml.ipynb)\n",
    "\n"
   ]
  }
 ]
}