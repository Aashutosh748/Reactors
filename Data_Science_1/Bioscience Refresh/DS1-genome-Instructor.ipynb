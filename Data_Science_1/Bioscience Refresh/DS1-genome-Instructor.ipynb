{
  "cells": [
    {
      "metadata": {},
      "cell_type": "markdown",
      "source": [
        "# Exploration: NumPy and Pandas\n",
        "\n",
        "A fundamental component of mastering data science concepts is applying and practicing them. This exploratory notebook is designed to provide you with a semi-directed space to do just that with the Python, NumPy, and Pandas skills that you either covered in an in-person workshop or through Microsoft Learn. The specific examples in this notebook apply NumPy and Pandas concepts in a life-sciences context, but they are applicable across disciplines and industry verticals.\n",
        "\n",
        "This notebook is divided into different stages of exploration. Initial suggestions for exploration are more structured than later ones and can provide some additional concepts and skills for tackling data-science challenges with real-world data. However, this notebook is designed to provide you with a launchpad for your personal experimentation with data science, so feel free to add cells and running your own experiments beyond those suggested here. That is the power and the purpose of a platform like Jupyter notebooks!"
      ],
      "execution_count": null,
      "outputs": []
    },
    {
      "metadata": {},
      "cell_type": "markdown",
      "source": [
        "## Setup and Refresher on Notebooks\n",
        "\n",
        "Before we begin, you will need to important the principal libraries used to explore and manipulate data in Python: NumPy and Pandas. The cell below also imports Matplotlib, the main visualization library in Python. For simplicity and consistency with prior instruction, industry-standard aliases are applied to these imported libraries. The cell below also runs `%matplotlib inline` magic command, which instructs Jupyter to display Matplotlib output directly in the notebook."
      ],
      "execution_count": null,
      "outputs": []
    },
    {
      "metadata": {
        "trusted": true
      },
      "cell_type": "code",
      "source": [
        "import numpy as np\n",
        "import pandas as pd\n",
        "import matplotlib.pyplot as plt\n",
        "%matplotlib inline"
      ],
      "execution_count": null,
      "outputs": []
    },
    {
      "metadata": {},
      "cell_type": "markdown",
      "source": [
        "As it might have been a while since you last worked with Jupyter notebooks, here is a quick refresher on efficiently using them.\n",
        "\n",
        "### Notebook Cells\n",
        "\n",
        "Notebook cells are divided into Markdown text cells and interactive code cells. You can easily recognize code cells by the `In [ ]:` to the left of them.\n",
        "\n",
        "Code in a code cells has only been executed -- and is thus available for use in other code cells in the notebook -- if there is a number beside the code cell (for example, `In [1]:`).\n",
        "\n",
        "To run the code in a cell, you can click the **Run** icon at the top left of a code cell or press **`Ctrl` + `Enter`**.\n",
        "\n",
        "Cells in Jupyter notebooks can be in one of two modes: edit or command. The active cell (the cell that you have clicked on or navigated to) is in edit mode if it has a green border around it. Code cells are in edit mode by default when you click on them. (If, however, you navigate to a code cell by other means, it will be in command mode; simply press **`Enter`** to change it to edit mode.)\n",
        "\n",
        "An active cell with a blue border is in command mode. You can change from edit mode to command mode in a cell by pressing **`Esc`** or by running the contents of a cell. Running a Markdown cell will render the Markdown.\n",
        "\n",
        "To add cells to a notebook, select **Insert cell** from the menu at the top of the screen or in the margin to the left of a cell in edit mode. You can delete unneeded cells by clicking the **Delete cell** icon at the top right of the cell.\n",
        "\n",
        "Entering command mode enables you to use keyboard shortcuts to quickly work with your notebook. Here are some of the most useful ones:\n",
        " - Add cell above: **`A`**\n",
        " - Add cell below: **`B`**\n",
        " - Delete cell: **`D`**,**`D`** (press **`D`** twice)\n",
        "\n",
        "Cheatography has a good compendium of additional keyboard shortcuts [here](https://cheatography.com/weidadeyue/cheat-sheets/jupyter-notebook/).\n",
        "\n",
        "You can run code cells from edit mode or command mode.\n",
        "\n",
        "### Documentation and Help\n",
        "\n",
        "Documentation for Python objects and functions is available directly in Jupyter notebooks. In order to access the documentation, simply put a question mark in front of the object or function in a code cell and execute the cell (for example, `?print`). A window containing the documentation will then open at the bottom of the notebook.\n",
        "\n",
        "On to exploration!"
      ],
      "execution_count": null,
      "outputs": []
    },
    {
      "metadata": {},
      "cell_type": "markdown",
      "source": [
        "## Section 1: Guided Exploration\n",
        "\n",
        "The dataset provided with this notebook is entitled `genome.txt`. It contains close to 1 million single-nucleotide polymorphisms (SNPs) from build 36 of the human genome. SNPs are variations of a single nucleotide that occurs at specific positions in a genome and thus serve as useful sign posts for pinpointing susceptibility to diseases and other genetic conditions. As a result, they are particularly useful in the field of bioinformatics.\n",
        "\n",
        "This particular set of SNPs was originally generated by the genomics company 23andME in February 2011 and is drawn from the National Center for Biotechnology Information within the United States National Institutes of Health and is used here as data in the public domain."
      ],
      "execution_count": null,
      "outputs": []
    },
    {
      "metadata": {},
      "cell_type": "markdown",
      "source": [
        "### Import and Investigate the Data\n",
        "\n",
        "Recall that `pd.read_csv()` is the most common way to pull external data into a Pandas DataFrame. Despite its name, this function works on a variety of file formats containing delimited data. Go ahead and try it on `genome.txt`.\n",
        "\n",
        "(If you need a refresher on the syntax for using this function, refer back to the Reactor Pandas materials, to the build-in Jupyter documentation with `?pd.read_csv`, or to the [Pandas documentation](https://pandas.pydata.org/pandas-docs/stable/reference/api/pandas.read_csv.html).)"
      ],
      "execution_count": null,
      "outputs": []
    },
    {
      "metadata": {
        "trusted": true
      },
      "cell_type": "code",
      "source": [
        "genome = pd.read_csv('Data/genome.txt')\n",
        "genome.head()"
      ],
      "execution_count": null,
      "outputs": []
    },
    {
      "metadata": {
        "trusted": true
      },
      "cell_type": "code",
      "source": [
        "genome = pd.read_csv('Data/genome.txt', sep='\\t')\n",
        "genome.head()"
      ],
      "execution_count": null,
      "outputs": []
    },
    {
      "metadata": {},
      "cell_type": "markdown",
      "source": [
        "Is the DataFrame now in a more useful form? If so, what initial information can gather about the dataset, such as its features or number of observations? (The [`head()`](https://pandas.pydata.org/pandas-docs/stable/reference/api/pandas.DataFrame.head.html) and [`info()`](https://pandas.pydata.org/pandas-docs/stable/reference/api/pandas.DataFrame.info.html) methods are some of the tools that you can use for your preliminary investigation of the dataset.)"
      ],
      "execution_count": null,
      "outputs": []
    },
    {
      "metadata": {
        "trusted": true
      },
      "cell_type": "code",
      "source": [
        "genome.info()"
      ],
      "execution_count": null,
      "outputs": []
    },
    {
      "metadata": {},
      "cell_type": "markdown",
      "source": [
        "### Interpreting the Dataset\n",
        "\n",
        "**`rsid`** is short for Reference SNP cluster ID; it is the identification number used by researchers and in databases to refer to specific SNPs. (For more information, see the [23andMe](https://customercare.23andme.com/hc/en-us/articles/212196908-What-Are-RS-Numbers-Rsid-) reference page on RS numbers.\n",
        "\n",
        "**`chromosome`** refers to which of the 23 human chromosomes (22 numbered and one X or Y chromosome) or the mitochondrial chromosoe on which an SNP appears.\n",
        "\n",
        "**`position`** refers to the specific location of a given SNP on the reference human genome. (For more information on the reference human genome, see the [human genome overview page](https://www.ncbi.nlm.nih.gov/grc/human) on the Genome Reference Consortium web site.) \n",
        "\n",
        "**`genotype`** refers to the pair of nucleotides that form an SNP inherited at a given chromosomal position (one coming from the father and one coming from the mother). (For more information on genotypes -- as well as a list of notable genotypes -- visit the [genotype page](https://www.snpedia.com/index.php/Genotype) at SNPedia.)"
      ],
      "execution_count": null,
      "outputs": []
    },
    {
      "metadata": {},
      "cell_type": "markdown",
      "source": [
        "## Section 2: Intermediate Exploration\n",
        "\n",
        "Now that you know more about the dataset, the next step is to start asking questions of it. A common next attribute of this particular dataset to investigate is how many SNPs occur per chromosome. Use the `value_counts()` method to determine this.\n",
        "\n",
        "(**Note:** You might also find it helpful to refer back to the Reactors Pandas material to work through this section.)"
      ],
      "execution_count": null,
      "outputs": []
    },
    {
      "metadata": {
        "trusted": true
      },
      "cell_type": "code",
      "source": [
        "genome['chromosome'].value_counts()"
      ],
      "execution_count": null,
      "outputs": []
    },
    {
      "metadata": {},
      "cell_type": "markdown",
      "source": [
        "Numbers are good for precision, but often a visualization can provide a more succinct (and digestible) presentation of data. The `plot()` method is a convenient way to invoke Matplotlib directly from your DataFrame. Use the `plot()` method to creat a bar chart of of the SNP value counts per chromosome. (**Hint:** You can do this either by specifying the `kind` argument in the `plot()` method or by using the `plot.bar()` method.)"
      ],
      "execution_count": null,
      "outputs": []
    },
    {
      "metadata": {
        "trusted": true
      },
      "cell_type": "code",
      "source": [
        "genome['chromosome'].value_counts().plot(kind='bar')"
      ],
      "execution_count": null,
      "outputs": []
    },
    {
      "metadata": {},
      "cell_type": "markdown",
      "source": [
        "The `value_counts()` method automatically sorts the chromosomes highest occurrence of SNPs to the lowest. What if we want to view the data sorted by the order in which chromosomes appear in the dataset? Try to see if you can figure out how to do so. (The `sort_index()` method is one possibility. Another possibility gets raised in the comments in this Stack Overflow [article](https://stackoverflow.com/questions/43855474/changing-sort-in-value-counts).)"
      ],
      "execution_count": null,
      "outputs": []
    },
    {
      "metadata": {
        "trusted": true
      },
      "cell_type": "code",
      "source": [
        "genome['chromosome'].value_counts()[genome['chromosome'].unique()]"
      ],
      "execution_count": null,
      "outputs": []
    },
    {
      "metadata": {},
      "cell_type": "markdown",
      "source": [
        "Now try plotting this output. (One of the joys of Pandas is that you can continue to string methods to objects in order to generate powerful, compact code.)"
      ],
      "execution_count": null,
      "outputs": []
    },
    {
      "metadata": {
        "trusted": true
      },
      "cell_type": "code",
      "source": [
        "genome['chromosome'].value_counts()[genome['chromosome'].unique()].plot(kind='bar')"
      ],
      "execution_count": null,
      "outputs": []
    },
    {
      "metadata": {},
      "cell_type": "markdown",
      "source": [
        "### Grouping Data\n",
        "\n",
        "If you haven't tried it already, the `groupby()` method can be useful in situations like this to turn the values of one of the columns in a DataFrame into the index for the DataFrame. Try using that method using the `chromosome` column coupled with the `count()` method."
      ],
      "execution_count": null,
      "outputs": []
    },
    {
      "metadata": {
        "trusted": true
      },
      "cell_type": "code",
      "source": [
        "genome.groupby('chromosome').count()"
      ],
      "execution_count": null,
      "outputs": []
    },
    {
      "metadata": {},
      "cell_type": "markdown",
      "source": [
        "You can also plot your now grouped DataFrame. (**Note:** Your bar graph might not turn out the way you expected. If so, discuss with your partner or group what might solve this problem.)"
      ],
      "execution_count": null,
      "outputs": []
    },
    {
      "metadata": {
        "trusted": true
      },
      "cell_type": "code",
      "source": [
        "genome.groupby('chromosome')['genotype'].count().plot(kind='bar');"
      ],
      "execution_count": null,
      "outputs": []
    },
    {
      "metadata": {},
      "cell_type": "markdown",
      "source": [
        "Changing what you group by is another means of asking questions about your data. Now try grouping by `genotype`. What does this new grouping tell you?"
      ],
      "execution_count": null,
      "outputs": []
    },
    {
      "metadata": {
        "trusted": true
      },
      "cell_type": "code",
      "source": [
        "genome.groupby('genotype')['chromosome'].count().plot.bar();"
      ],
      "execution_count": null,
      "outputs": []
    },
    {
      "metadata": {},
      "cell_type": "markdown",
      "source": [
        "**Note:** The **D** and **DD** are not nucleotides themselves; DNA nucleotides can only be adenine (A), thymine (T), guanine (G) and cytosine (C). Rather, the **D** stands for genotypes in which in which one or more base pairs (or even an entire part of a chromosome) has been **deleted** during DNA replication.\n",
        "\n",
        "Similarly, **I** and **II** represent genotypes of [wobble base pairs](https://en.wikipedia.org/wiki/Wobble_base_pair) that do not do not follow the conventional A-T and C-G pairing in DNA. Such genotypes are responsible for ailments such as [sickle-cell disease](https://en.wikipedia.org/wiki/Sickle_cell_disease)."
      ],
      "execution_count": null,
      "outputs": []
    },
    {
      "metadata": {},
      "cell_type": "markdown",
      "source": [
        "### Pivoting Data\n",
        "\n",
        "You can summarize your DataFrame in a fashion similar to pivot tables in spreadsheets by use of the [`pivot()`](https://pandas.pydata.org/pandas-docs/stable/reference/api/pandas.pivot.html) function. Try using this function on your grouped data, but be advised that the `index`, `columns`, and `values` arguments for this function all require `str` or `object` inputs, so it might be easiest to first capture the output from the `groupby()` in a new DataFrame. (This Stack Overflow [answer](https://stackoverflow.com/questions/10373660/converting-a-pandas-groupby-output-from-series-to-dataframe) given by Wes McKinney, the creator of Pandas, might prove useful in doing this.)"
      ],
      "execution_count": null,
      "outputs": []
    },
    {
      "metadata": {
        "trusted": true
      },
      "cell_type": "code",
      "source": [
        "grouped_genome = genome.groupby(['genotype', 'chromosome'])['rsid'].count().reset_index()\n",
        "grouped_genome.rename(columns={'rsid': 'count'}, inplace=True)\n",
        "grouped_genome.head()"
      ],
      "execution_count": null,
      "outputs": []
    },
    {
      "metadata": {
        "trusted": true
      },
      "cell_type": "code",
      "source": [
        "pivot_genome = grouped_genome.pivot(index='genotype', \n",
        "                                    columns='chromosome', \n",
        "                                    values='count')\n",
        "pivot_genome.head()"
      ],
      "execution_count": null,
      "outputs": []
    },
    {
      "metadata": {},
      "cell_type": "markdown",
      "source": [
        "### Stacked Bar Graph\n",
        "\n",
        "With the data pivoted, you can try somewhat more advanced visualization of your data such as a stacked bar graph in which you can see not just how many instances of different genotypes there are in the dataset, but also how many of those instances occur on each chromosome. Build upon what you know about visualiziing with Matplotlib and refer to the documentation for more hints about how to execute this."
      ],
      "execution_count": null,
      "outputs": []
    },
    {
      "metadata": {
        "trusted": true
      },
      "cell_type": "code",
      "source": [
        "pivot_genome.plot.bar(stacked=True, figsize=(10,7));"
      ],
      "execution_count": null,
      "outputs": []
    },
    {
      "cell_type": "code",
      "execution_count": null,
      "metadata": {},
      "outputs": [],
      "source": [
        "?pivot_genome.plot.bar"
      ]
    },
    {
      "metadata": {},
      "cell_type": "markdown",
      "source": [
        "## Section 3: Individual Exploration\n",
        "\n",
        "There is still a lot you can do with this dataset or related ones. Ideas include:\n",
        " - Moving the legend for the stacked bar graph off to one side.\n"
      ],
      "execution_count": null,
      "outputs": []
    },
    {
      "cell_type": "code",
      "execution_count": null,
      "metadata": {},
      "outputs": [],
      "source": [
        "# Students can play with settings like bbox_to_anchor to arrive at an appearance they like.\n",
        "fig = plt.figure()\n",
        "ax = pivot_genome.plot.bar(stacked=True, figsize=(10,7))\n",
        "ax.legend(loc='upper center', bbox_to_anchor=(1.09, 1.014), ncol=1)\n",
        "plt.show()"
      ]
    },
    {
      "cell_type": "markdown",
      "metadata": {},
      "source": [
        " - Researching the average number of base pairs per human chromosome to see (and visualize) what proportion of each chromosome is represented in this dataset."
      ],
      "execution_count": null,
      "outputs": []
    },
    {
      "cell_type": "code",
      "execution_count": null,
      "metadata": {},
      "outputs": [],
      "source": [
        "# Create a new DataFrame to house the aggregated genotype totals by chromosome.\n",
        "chrom_num = genome.groupby('chromosome')['genotype'].count().reset_index()\n",
        "chrom_num.tail(10)"
      ]
    },
    {
      "cell_type": "code",
      "execution_count": null,
      "metadata": {},
      "outputs": [],
      "source": [
        "# It is subtle, but there are actually two rows for Chromosome 21.\n",
        "# Combine the genotype totals for both rows and delete the surplus row.\n",
        "chrom_num.iloc[20, 1] = chrom_num.iloc[20, 1] + chrom_num.iloc[21, 1]\n",
        "chrom_num.drop([21], axis=0, inplace=True)\n",
        "chrom_num.reset_index(inplace=True, drop=True)\n",
        "chrom_num.tail(10)"
      ]
    },
    {
      "cell_type": "code",
      "execution_count": null,
      "metadata": {},
      "outputs": [],
      "source": [
        "# Now make the chromosome number the index for the DataFrame.\n",
        "chrom_num.set_index('chromosome', inplace=True)\n",
        "chrom_num.tail()"
      ]
    },
    {
      "cell_type": "code",
      "execution_count": null,
      "metadata": {},
      "outputs": [],
      "source": [
        "# Looked up number of base pairs per chromosome from https://ghr.nlm.nih.gov/chromosome \n",
        "# and https://www.nature.com/scitable/topicpage/mtdna-and-mitochondrial-diseases-903/.\n",
        "# Add these numbers as a new column to the DataFrame.\n",
        "mil_base_pairs = [249, 243, 198, 191, 181, 171, 159, 146, 141, 133, 135, 134, 115, 107, 102, 90, 83, 78, 59, 63, 48, 51, 0.017, 155, 59]\n",
        "chrom_num['million base pairs'] = mil_base_pairs\n",
        "chrom_num.head()"
      ]
    },
    {
      "cell_type": "code",
      "execution_count": null,
      "metadata": {},
      "outputs": [],
      "source": [
        "# Find the proportion that the number of genotypes represents for each chromosome.\n",
        "chrom_num['proportion'] = chrom_num['genotype'].divide(chrom_num['million base pairs']).divide(1000000)\n",
        "chrom_num.tail()"
      ]
    },
    {
      "cell_type": "code",
      "execution_count": null,
      "metadata": {},
      "outputs": [],
      "source": [
        "# Now normalize the proportions of genotypes and basepairs based on the column totals to graph.\n",
        "chrom_num['gt_proportion'] = chrom_num['genotype'].divide(chrom_num['genotype'].sum())\n",
        "chrom_num['bp_proportion'] = chrom_num['proportion'].divide(chrom_num['proportion'].sum())\n",
        "chrom_num.tail()"
      ]
    },
    {
      "cell_type": "code",
      "execution_count": null,
      "metadata": {},
      "outputs": [],
      "source": [
        "# Graph just the 'gt_proportion' and 'bp_proportion'.\n",
        "chrom_num[['gt_proportion', 'bp_proportion']].plot(kind='bar');"
      ]
    },
    {
      "cell_type": "code",
      "execution_count": null,
      "metadata": {},
      "outputs": [],
      "source": [
        "# Mitochondrial genotypes are ridiculously overrepresented in the data.\n",
        "# Remove that row and recompute to see how the other chromosomes stacked up.\n",
        "chrom_num.drop(['MT'], axis=0, inplace=True)\n",
        "chrom_num['proportion'] = chrom_num['genotype'].divide(chrom_num['million base pairs']).divide(1000000)\n",
        "chrom_num['gt_proportion'] = chrom_num['genotype'].divide(chrom_num['genotype'].sum())\n",
        "chrom_num['bp_proportion'] = chrom_num['proportion'].divide(chrom_num['proportion'].sum())\n",
        "chrom_num.tail()"
      ]
    },
    {
      "cell_type": "code",
      "execution_count": null,
      "metadata": {},
      "outputs": [],
      "source": [
        "# No regraph the two columns of interest from the DataFrame.\n",
        "# Genotypes on the lower-numbered chromosomes are far overrepresented a proporition to the size of those chromosomes.\n",
        "chrom_num[['gt_proportion', 'bp_proportion']].plot(kind='bar');"
      ]
    },
    {
      "cell_type": "markdown",
      "metadata": {},
      "source": [
        " - Use the NCBI [Genome Data Viewer](https://www.ncbi.nlm.nih.gov/genome/gdv/) to locate more datasets to investigate (or download via the NCBI [FTP site](https://ftp.ncbi.nlm.nih.gov/))."
      ],
      "execution_count": null,
      "outputs": []
    }
  ],
  "metadata": {
    "kernelspec": {
      "name": "python3",
      "display_name": "Python 3",
      "language": "python"
    },
    "language_info": {
      "mimetype": "text/x-python",
      "nbconvert_exporter": "python",
      "name": "python",
      "pygments_lexer": "ipython3",
      "version": "3.7.3-final",
      "file_extension": ".py",
      "codemirror_mode": {
        "version": 3,
        "name": "ipython"
      }
    }
  },
  "nbformat": 4,
  "nbformat_minor": 2
}